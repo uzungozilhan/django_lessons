{
 "cells": [
  {
   "cell_type": "code",
   "execution_count": 1,
   "source": [
    "print(\"hello world\")"
   ],
   "outputs": [
    {
     "output_type": "stream",
     "name": "stdout",
     "text": [
      "hello world\n"
     ]
    }
   ],
   "metadata": {}
  },
  {
   "cell_type": "code",
   "execution_count": 2,
   "source": [
    "2 + 2"
   ],
   "outputs": [
    {
     "output_type": "execute_result",
     "data": {
      "text/plain": [
       "4"
      ]
     },
     "metadata": {},
     "execution_count": 2
    }
   ],
   "metadata": {}
  },
  {
   "cell_type": "code",
   "execution_count": 4,
   "source": [
    "a = \"\"\"Python\r\n",
    "class\"\"\"\r\n",
    "a"
   ],
   "outputs": [
    {
     "output_type": "execute_result",
     "data": {
      "text/plain": [
       "'Python\\nclass'"
      ]
     },
     "metadata": {},
     "execution_count": 4
    }
   ],
   "metadata": {}
  },
  {
   "cell_type": "code",
   "execution_count": 5,
   "source": [
    "a = \"Hello, World!\"\r\n",
    "print(len(a))"
   ],
   "outputs": [
    {
     "output_type": "stream",
     "name": "stdout",
     "text": [
      "13\n"
     ]
    }
   ],
   "metadata": {}
  },
  {
   "cell_type": "code",
   "execution_count": 6,
   "source": [
    "a = \"Hello World!\"\r\n",
    "print(a[1])\r\n"
   ],
   "outputs": [
    {
     "output_type": "stream",
     "name": "stdout",
     "text": [
      "e\n"
     ]
    }
   ],
   "metadata": {}
  },
  {
   "cell_type": "code",
   "execution_count": 7,
   "source": [
    "upper() # Returns an uppercase version of the string\r\n",
    "lower() # Returns a lowercase version of the string\r\n",
    "title()\r\n",
    "capitalize()\r\n",
    "count(item)  # Returns the number of repetitions of the substring sub inside s.\r\n",
    "split() # Splits at any sequence of whitespace (blanks, newlines, tabs) and returns the remaining parts of s as a list\r\n",
    "split(sep)  # Separator that gets removed from between the parts of the list.\r\n",
    "startswith() # True/False\r\n",
    "endswith() # True/False\r\n",
    "strip([chars]) # Returns a copy of the string with both leading and trailing characters removed"
   ],
   "outputs": [
    {
     "output_type": "error",
     "ename": "NameError",
     "evalue": "name 'upper' is not defined",
     "traceback": [
      "\u001b[1;31m---------------------------------------------------------------------------\u001b[0m",
      "\u001b[1;31mNameError\u001b[0m                                 Traceback (most recent call last)",
      "\u001b[1;32m<ipython-input-7-ba7bacca4662>\u001b[0m in \u001b[0;36m<module>\u001b[1;34m\u001b[0m\n\u001b[1;32m----> 1\u001b[1;33m \u001b[0mupper\u001b[0m\u001b[1;33m(\u001b[0m\u001b[1;33m)\u001b[0m \u001b[1;31m# Returns an uppercase version of the string\u001b[0m\u001b[1;33m\u001b[0m\u001b[1;33m\u001b[0m\u001b[0m\n\u001b[0m\u001b[0;32m      2\u001b[0m \u001b[0mlower\u001b[0m\u001b[1;33m(\u001b[0m\u001b[1;33m)\u001b[0m \u001b[1;31m# Returns a lowercase version of the string\u001b[0m\u001b[1;33m\u001b[0m\u001b[1;33m\u001b[0m\u001b[0m\n\u001b[0;32m      3\u001b[0m \u001b[0mtitle\u001b[0m\u001b[1;33m(\u001b[0m\u001b[1;33m)\u001b[0m\u001b[1;33m\u001b[0m\u001b[1;33m\u001b[0m\u001b[0m\n\u001b[0;32m      4\u001b[0m \u001b[0mcapitalize\u001b[0m\u001b[1;33m(\u001b[0m\u001b[1;33m)\u001b[0m\u001b[1;33m\u001b[0m\u001b[1;33m\u001b[0m\u001b[0m\n\u001b[0;32m      5\u001b[0m \u001b[0mcount\u001b[0m\u001b[1;33m(\u001b[0m\u001b[0mitem\u001b[0m\u001b[1;33m)\u001b[0m  \u001b[1;31m# Returns the number of repetitions of the substring sub inside s.\u001b[0m\u001b[1;33m\u001b[0m\u001b[1;33m\u001b[0m\u001b[0m\n",
      "\u001b[1;31mNameError\u001b[0m: name 'upper' is not defined"
     ]
    }
   ],
   "metadata": {}
  },
  {
   "cell_type": "code",
   "execution_count": 13,
   "source": [
    "string3 = \"ol eyyyyy\"\r\n",
    "\r\n",
    "# prints the string by removing leading and trailing whitespaces\r\n",
    "print(string3.strip(\"y\"))\r\n",
    "\r\n",
    "# prints the string by removing geeks\r\n",
    "string3 = \"ol eyyyyy  \"\r\n",
    "string3.strip(\"y\")\r\n"
   ],
   "outputs": [
    {
     "output_type": "stream",
     "name": "stdout",
     "text": [
      "ol e\n"
     ]
    },
    {
     "output_type": "execute_result",
     "data": {
      "text/plain": [
       "'ol eyyyyy  '"
      ]
     },
     "metadata": {},
     "execution_count": 13
    }
   ],
   "metadata": {}
  },
  {
   "cell_type": "code",
   "execution_count": 14,
   "source": [
    "5%3"
   ],
   "outputs": [
    {
     "output_type": "execute_result",
     "data": {
      "text/plain": [
       "2"
      ]
     },
     "metadata": {},
     "execution_count": 14
    }
   ],
   "metadata": {}
  },
  {
   "cell_type": "code",
   "execution_count": 16,
   "source": [
    "3 == 5\r\n",
    "5 == 5"
   ],
   "outputs": [
    {
     "output_type": "execute_result",
     "data": {
      "text/plain": [
       "True"
      ]
     },
     "metadata": {},
     "execution_count": 16
    }
   ],
   "metadata": {}
  },
  {
   "cell_type": "code",
   "execution_count": 17,
   "source": [
    "x = 5\r\n",
    "y = 8\r\n",
    "\r\n",
    "print(\"x == y:\", x == y)\r\n",
    "print(\"x != y:\", x != y)\r\n",
    "print(\"x < y:\", x < y)\r\n",
    "print(\"x > y:\", x > y)\r\n",
    "print(\"x <= y:\", x <= y)\r\n",
    "print(\"x >= y:\", x >= y)\r\n"
   ],
   "outputs": [
    {
     "output_type": "stream",
     "name": "stdout",
     "text": [
      "x == y: False\n",
      "x != y: True\n",
      "x < y: True\n",
      "x > y: False\n",
      "x <= y: True\n",
      "x >= y: False\n"
     ]
    }
   ],
   "metadata": {}
  },
  {
   "cell_type": "code",
   "execution_count": 18,
   "source": [
    "print((9 > 7) and (2 < 4))  # Both original expressions are True\r\n",
    "print((8 == 8) or (6 != 6)) # One original expression is True\r\n",
    "print(not(3 <= 1))          # The original expression is False\r\n"
   ],
   "outputs": [
    {
     "output_type": "stream",
     "name": "stdout",
     "text": [
      "True\n",
      "True\n",
      "True\n"
     ]
    }
   ],
   "metadata": {}
  },
  {
   "cell_type": "code",
   "execution_count": 19,
   "source": [
    "# [] {} 0 None  # False\r\n",
    "\r\n",
    "if []:\r\n",
    "    print(\"This is true\")\r\n",
    "\r\n",
    "# Will not print anything since [] is falsy.\r\n"
   ],
   "outputs": [],
   "metadata": {}
  },
  {
   "cell_type": "code",
   "execution_count": null,
   "source": [
    "list1 = [\"Apple\", 1, 3.5, True, [1, 3], {\"Ready\": \"yes\"}]\r\n"
   ],
   "outputs": [],
   "metadata": {}
  },
  {
   "cell_type": "code",
   "execution_count": 22,
   "source": [
    "a = list()\r\n",
    "print(type(a))\r\n",
    "print(a)\r\n"
   ],
   "outputs": [
    {
     "output_type": "stream",
     "name": "stdout",
     "text": [
      "<class 'list'>\n",
      "[]\n"
     ]
    }
   ],
   "metadata": {}
  },
  {
   "cell_type": "code",
   "execution_count": 23,
   "source": [
    "a = list(\"abc\")\r\n",
    "a"
   ],
   "outputs": [
    {
     "output_type": "execute_result",
     "data": {
      "text/plain": [
       "['a', 'b', 'c']"
      ]
     },
     "metadata": {},
     "execution_count": 23
    }
   ],
   "metadata": {}
  },
  {
   "cell_type": "code",
   "execution_count": 24,
   "source": [
    "#  append()  # Adds a -single element- at the end of the list\r\n",
    "stack = []\r\n",
    "\r\n",
    "for i in range(5):\r\n",
    "    stack.append(i)\r\n",
    "    print(stack)\r\n",
    "\r\n",
    "while len(stack):\r\n",
    "    print(stack.pop())\r\n"
   ],
   "outputs": [
    {
     "output_type": "stream",
     "name": "stdout",
     "text": [
      "[0]\n",
      "[0, 1]\n",
      "[0, 1, 2]\n",
      "[0, 1, 2, 3]\n",
      "[0, 1, 2, 3, 4]\n",
      "4\n",
      "3\n",
      "2\n",
      "1\n",
      "0\n"
     ]
    }
   ],
   "metadata": {}
  },
  {
   "cell_type": "code",
   "execution_count": 25,
   "source": [
    "# Reach to the index no 1 inside inner list:\r\n",
    "a = ['ali', 2, [1,2], 7]\r\n",
    "a[2][1]\r\n",
    "2"
   ],
   "outputs": [
    {
     "output_type": "execute_result",
     "data": {
      "text/plain": [
       "2"
      ]
     },
     "metadata": {},
     "execution_count": 25
    }
   ],
   "metadata": {}
  },
  {
   "cell_type": "code",
   "execution_count": null,
   "source": [],
   "outputs": [],
   "metadata": {}
  },
  {
   "cell_type": "code",
   "execution_count": 26,
   "source": [
    "list1 = [\"a\", \"b\", \"c\"]\r\n",
    "list2 = [1, 2, 3]\r\n",
    "\r\n",
    "list3 = list1 + list2\r\n",
    "print(list3)\r\n",
    "\r\n",
    "# ['a', 'b', 'c', 1, 2, 3]\r\n"
   ],
   "outputs": [
    {
     "output_type": "stream",
     "name": "stdout",
     "text": [
      "['a', 'b', 'c', 1, 2, 3]\n"
     ]
    }
   ],
   "metadata": {}
  },
  {
   "cell_type": "code",
   "execution_count": 27,
   "source": [
    "thistuple = (\"apple\",)\r\n",
    "print(type(thistuple))\r\n",
    "\r\n",
    "# NOT a tuple\r\n",
    "thistuple = (\"apple\")\r\n",
    "print(type(thistuple))\r\n",
    "\r\n",
    "# A tuple with strings, integers and boolean values:\r\n",
    "tuple1 = (\"abc\", 34, True, 40, \"male\")\r\n",
    "\r\n",
    "# Print the second item in the tuple:\r\n",
    "thistuple = (\"apple\", \"banana\", \"cherry\")\r\n",
    "print(thistuple[1])\r\n"
   ],
   "outputs": [
    {
     "output_type": "stream",
     "name": "stdout",
     "text": [
      "<class 'tuple'>\n",
      "<class 'str'>\n",
      "banana\n"
     ]
    }
   ],
   "metadata": {}
  },
  {
   "cell_type": "code",
   "execution_count": 28,
   "source": [
    "#  count()\t# Returns the number of times a specified value occurs in a tuple\r\n",
    "#  index()\t# Searches the tuple for a specified value and returns the position of where it was found\r\n",
    "\r\n",
    "# Join two tuples:\r\n",
    "tuple1 = (\"a\", \"b\" , \"c\")\r\n",
    "tuple2 = (1, 2, 3)\r\n",
    "\r\n",
    "tuple3 = tuple1 + tuple2\r\n",
    "print(tuple3)\r\n",
    "\r\n",
    "# ('a', 'b', 'c', 1, 2, 3)\r\n",
    "\r\n"
   ],
   "outputs": [
    {
     "output_type": "stream",
     "name": "stdout",
     "text": [
      "('a', 'b', 'c', 1, 2, 3)\n"
     ]
    }
   ],
   "metadata": {}
  },
  {
   "cell_type": "code",
   "execution_count": 29,
   "source": [
    "thisdict = {\r\n",
    "  \"brand\": \"Ford\",\r\n",
    "  \"model\": \"Mustang\",\r\n",
    "  \"year\": 1964\r\n",
    "}\r\n",
    "print(thisdict)\r\n",
    "# {'brand': 'Ford', 'model': 'Mustang', 'year': 1964}\r\n",
    "\r\n",
    "# You can access the items of a dictionary by referring to its key name, inside square brackets:\r\n",
    "x = thisdict[\"model\"]\r\n",
    "print(x)\r\n",
    "# Mustang\r\n",
    "\r\n",
    "# If there is not such a key, it will raise key error. To avoid this use get() method.\r\n",
    "\r\n",
    "\r\n",
    "# There is also a method called get() that will give you the same result:\r\n",
    "x = thisdict.get(\"model\")\r\n",
    "print(x)\r\n",
    "# Mustang\r\n",
    "\r\n",
    "# If not, then it will return None (if get() is used with only one argument). \r\n",
    "# Default None can be changed to a worning message: \r\n",
    "thisdict.get(\"bran\", \"There is no such a key!\")\r\n",
    "\r\n",
    "\r\n",
    "# The keys() method will return a list of all the keys in the dictionary.\r\n",
    "x = thisdict.keys()\r\n",
    "print(x)\r\n",
    "# dict_keys(['brand', 'model', 'year'])\r\n",
    "# Keys can be displayed on a loop:\r\n",
    "for key in  thisdict.keys():\r\n",
    "  print(key)\r\n",
    "\r\n",
    "\r\n",
    "# Add a new item to the original dictionary, and see that the keys list gets updated as well:\r\n",
    "thisdict[\"color\"] = \"white\"\r\n",
    "\r\n",
    "\r\n",
    "# You can change the value of a specific item by referring to its key name:\r\n",
    "thisdict[\"year\"] = 2018\r\n",
    "\r\n",
    "# The update() method will update the dictionary with the items from the given argument. The argument must be a dictionary, or an iterable object with key:value pairs.\r\n",
    "thisdict.update({\"year\": 2020})\r\n",
    "\r\n",
    "# Adding an item to the dictionary is done by using a new index key and assigning a value to it:\r\n",
    "thisdict[\"color\"] = \"red\"\r\n",
    "\r\n",
    "# The pop() method removes the item with the specified key name:\r\n",
    "thisdict.pop(\"model\")\r\n",
    "\r\n",
    "# The popitem() method removes the last inserted item \r\n",
    "thisdict.popitem()\r\n",
    "\r\n",
    "\r\n",
    "# The del keyword removes the item with the specified key name:\r\n",
    "del thisdict[\"model\"]\r\n",
    "\r\n",
    "# The del keyword can also delete the dictionary completely.\r\n",
    "\r\n",
    "# The clear() method empties the dictionary.\r\n"
   ],
   "outputs": [
    {
     "output_type": "stream",
     "name": "stdout",
     "text": [
      "{'brand': 'Ford', 'model': 'Mustang', 'year': 1964}\n",
      "Mustang\n",
      "Mustang\n",
      "dict_keys(['brand', 'model', 'year'])\n",
      "brand\n",
      "model\n",
      "year\n"
     ]
    },
    {
     "output_type": "error",
     "ename": "KeyError",
     "evalue": "'model'",
     "traceback": [
      "\u001b[1;31m---------------------------------------------------------------------------\u001b[0m",
      "\u001b[1;31mKeyError\u001b[0m                                  Traceback (most recent call last)",
      "\u001b[1;32m<ipython-input-29-11662a64c48e>\u001b[0m in \u001b[0;36m<module>\u001b[1;34m\u001b[0m\n\u001b[0;32m     55\u001b[0m \u001b[1;33m\u001b[0m\u001b[0m\n\u001b[0;32m     56\u001b[0m \u001b[1;31m# The del keyword removes the item with the specified key name:\u001b[0m\u001b[1;33m\u001b[0m\u001b[1;33m\u001b[0m\u001b[1;33m\u001b[0m\u001b[0m\n\u001b[1;32m---> 57\u001b[1;33m \u001b[1;32mdel\u001b[0m \u001b[0mthisdict\u001b[0m\u001b[1;33m[\u001b[0m\u001b[1;34m\"model\"\u001b[0m\u001b[1;33m]\u001b[0m\u001b[1;33m\u001b[0m\u001b[1;33m\u001b[0m\u001b[0m\n\u001b[0m\u001b[0;32m     58\u001b[0m \u001b[1;33m\u001b[0m\u001b[0m\n\u001b[0;32m     59\u001b[0m \u001b[1;31m# The del keyword can also delete the dictionary completely.\u001b[0m\u001b[1;33m\u001b[0m\u001b[1;33m\u001b[0m\u001b[1;33m\u001b[0m\u001b[0m\n",
      "\u001b[1;31mKeyError\u001b[0m: 'model'"
     ]
    }
   ],
   "metadata": {}
  },
  {
   "cell_type": "code",
   "execution_count": null,
   "source": [
    "# Create a Set\r\n",
    "thisset = {\"apple\", \"banana\", \"cherry\"}\r\n",
    "\r\n",
    "# Get the number of items in a set:\r\n",
    "print(len(thisset))\r\n",
    "\r\n",
    "# To add one item to a set use the add() method.\r\n",
    "thisset.add(\"orange\")\r\n",
    "\r\n",
    "# To remove an item in a set, use the remove(), or the discard() method.\r\n",
    "thisset.remove(\"banana\")\r\n",
    "thisset.discard(\"banana\")\r\n",
    "\r\n",
    "# If the item to remove does not exist, discard() will NOT raise an error.\r\n",
    "\r\n",
    "# Remove the last item by using the pop() method:\r\n",
    "\r\n",
    "# Sets are unordered, so when using the pop() method, you do not know which item that gets removed.\r\n"
   ],
   "outputs": [],
   "metadata": {}
  },
  {
   "cell_type": "code",
   "execution_count": 30,
   "source": [
    "a = {1, 2, 3, 10, 32, 100}\r\n",
    "b = {1, 2, 32}\r\n",
    "\r\n",
    "a.difference(b)\r\n",
    "a.intersection(b)\r\n",
    "a.union(b)\r\n"
   ],
   "outputs": [
    {
     "output_type": "execute_result",
     "data": {
      "text/plain": [
       "{1, 2, 3, 10, 32, 100}"
      ]
     },
     "metadata": {},
     "execution_count": 30
    }
   ],
   "metadata": {}
  },
  {
   "cell_type": "code",
   "execution_count": 33,
   "source": [
    "list11 = [1]\r\n",
    "if list11:\r\n",
    "    print(\"The list is not empty!\")\r\n",
    "\r\n",
    "# Structure:\r\n",
    "a = 200\r\n",
    "b = 33\r\n",
    "if b > a:\r\n",
    "  print(\"b is greater than a\")\r\n",
    "elif a == b:\r\n",
    "  print(\"a and b are equal\")\r\n",
    "else:\r\n",
    "  print(\"a is greater than b\")\r\n",
    "\r\n",
    "# You can also have an else without the elif\r\n",
    "\r\n",
    "##############OPTIONAL#######################################\r\n",
    "# If you have only one statement to execute, you can put it on the same line as the if statement:\r\n",
    "# if a > b: print(\"a is greater than b\")\r\n",
    "\r\n",
    "# if num_1 > num_2:\r\n",
    "#     print(f\"{num_1} is greater than {num_2}\")\r\n",
    "    \r\n",
    "# a = 2\r\n",
    "# b = 330\r\n",
    "# print(\"A\") if a > b else print(\"B\")\r\n",
    "\r\n",
    "# a = 330\r\n",
    "# b = 330\r\n",
    "# print(\"A\") if a > b else print(\"=\") if a == b else print(\"B\")\r\n",
    "##############OPTIONAL#######################################\r\n"
   ],
   "outputs": [
    {
     "output_type": "stream",
     "name": "stdout",
     "text": [
      "The list is not empty!\n",
      "a is greater than b\n"
     ]
    }
   ],
   "metadata": {}
  },
  {
   "cell_type": "code",
   "execution_count": 34,
   "source": [
    "i = 1\r\n",
    "while i < 6:\r\n",
    "  print(i)\r\n",
    "  i += 1"
   ],
   "outputs": [
    {
     "output_type": "stream",
     "name": "stdout",
     "text": [
      "1\n",
      "2\n",
      "3\n",
      "4\n",
      "5\n"
     ]
    }
   ],
   "metadata": {}
  },
  {
   "cell_type": "code",
   "execution_count": 35,
   "source": [
    "i = 1\r\n",
    "while i < 6:\r\n",
    "  print(i)\r\n",
    "  if i == 3:\r\n",
    "    break\r\n",
    "  i += 1"
   ],
   "outputs": [
    {
     "output_type": "stream",
     "name": "stdout",
     "text": [
      "1\n",
      "2\n",
      "3\n"
     ]
    }
   ],
   "metadata": {}
  },
  {
   "cell_type": "code",
   "execution_count": 39,
   "source": [
    "import time\r\n",
    "\r\n",
    "# i = 10\r\n",
    "i = 5\r\n",
    "# while i >= 0:\r\n",
    "while i > 0:\r\n",
    "    print(f\"Countdown: {i}\")\r\n",
    "    time.sleep(1)\r\n",
    "    i -= 1\r\n",
    "    # i -= 1\r\n",
    "\r\n",
    "print(\"!!!!! Fire !!!!!\")"
   ],
   "outputs": [
    {
     "output_type": "stream",
     "name": "stdout",
     "text": [
      "Countdown: 5\n",
      "Countdown: 4\n",
      "Countdown: 3\n",
      "Countdown: 2\n",
      "Countdown: 1\n",
      "!!!!! Fire !!!!!\n"
     ]
    }
   ],
   "metadata": {}
  },
  {
   "cell_type": "code",
   "execution_count": 40,
   "source": [
    "fruits = [\"apple\", \"banana\", \"cherry\"]\r\n",
    "for fruit in fruits:\r\n",
    "  print(fruit)"
   ],
   "outputs": [
    {
     "output_type": "stream",
     "name": "stdout",
     "text": [
      "apple\n",
      "banana\n",
      "cherry\n"
     ]
    }
   ],
   "metadata": {}
  },
  {
   "cell_type": "code",
   "execution_count": 41,
   "source": [
    "for x in \"banana\":\r\n",
    "  print(x)"
   ],
   "outputs": [
    {
     "output_type": "stream",
     "name": "stdout",
     "text": [
      "b\n",
      "a\n",
      "n\n",
      "a\n",
      "n\n",
      "a\n"
     ]
    }
   ],
   "metadata": {}
  },
  {
   "cell_type": "code",
   "execution_count": 43,
   "source": [
    "fruits = [\"apple\", \"banana\", \"cherry\"]\r\n",
    "for x in fruits:\r\n",
    "    if x == \"banana\":\r\n",
    "        break\r\n",
    "    print(x)"
   ],
   "outputs": [
    {
     "output_type": "stream",
     "name": "stdout",
     "text": [
      "apple\n"
     ]
    }
   ],
   "metadata": {}
  },
  {
   "cell_type": "code",
   "execution_count": 44,
   "source": [
    "for x in range(6):\r\n",
    "  print(x)"
   ],
   "outputs": [
    {
     "output_type": "stream",
     "name": "stdout",
     "text": [
      "0\n",
      "1\n",
      "2\n",
      "3\n",
      "4\n",
      "5\n"
     ]
    }
   ],
   "metadata": {}
  },
  {
   "cell_type": "code",
   "execution_count": 45,
   "source": [
    "for x in range(2, 6):\r\n",
    "  print(x)"
   ],
   "outputs": [
    {
     "output_type": "stream",
     "name": "stdout",
     "text": [
      "2\n",
      "3\n",
      "4\n",
      "5\n"
     ]
    }
   ],
   "metadata": {}
  },
  {
   "cell_type": "code",
   "execution_count": 46,
   "source": [
    "for x in range(2, 30, 3):\r\n",
    "  print(x)"
   ],
   "outputs": [
    {
     "output_type": "stream",
     "name": "stdout",
     "text": [
      "2\n",
      "5\n",
      "8\n",
      "11\n",
      "14\n",
      "17\n",
      "20\n",
      "23\n",
      "26\n",
      "29\n"
     ]
    }
   ],
   "metadata": {}
  },
  {
   "cell_type": "code",
   "execution_count": 47,
   "source": [
    "adjs = [\"red\", \"big\", \"tasty\"]\r\n",
    "fruits = [\"apple\", \"banana\", \"cherry\"]\r\n",
    "\r\n",
    "for adj in adjs:\r\n",
    "  for fruit in fruits:\r\n",
    "    print(adj, fruit)"
   ],
   "outputs": [
    {
     "output_type": "stream",
     "name": "stdout",
     "text": [
      "red apple\n",
      "red banana\n",
      "red cherry\n",
      "big apple\n",
      "big banana\n",
      "big cherry\n",
      "tasty apple\n",
      "tasty banana\n",
      "tasty cherry\n"
     ]
    }
   ],
   "metadata": {}
  },
  {
   "cell_type": "code",
   "execution_count": 48,
   "source": [
    "for x in [0, 1, 2]:\r\n",
    "  pass"
   ],
   "outputs": [],
   "metadata": {}
  },
  {
   "cell_type": "code",
   "execution_count": 49,
   "source": [
    "# In Python a function is defined using the def keyword:\r\n",
    "def my_function():\r\n",
    "  return \"Hello from a function\"\r\n",
    "\r\n",
    "# To call a function, use the function name followed by parenthesis:\r\n",
    "my_function()"
   ],
   "outputs": [
    {
     "output_type": "execute_result",
     "data": {
      "text/plain": [
       "'Hello from a function'"
      ]
     },
     "metadata": {},
     "execution_count": 49
    }
   ],
   "metadata": {}
  },
  {
   "cell_type": "code",
   "execution_count": 50,
   "source": [
    "# The following example has a function with one argument (name). When the function is called, we pass along a name, which is used inside the function to print the full name.\r\n",
    "def my_function(name):\r\n",
    "    return f\"Hello {name} how are you?\"\r\n",
    "\r\n",
    "my_function(\"John\")\r\n",
    "\r\n",
    "\r\n",
    "# This function expects 2 arguments, and gets 2 arguments:\r\n",
    "def my_function(name, last_name):\r\n",
    "    return f\"Hello {name} {last_name} how are you?\"\r\n",
    "\r\n",
    "my_function(\"John\", \"Smith\")"
   ],
   "outputs": [
    {
     "output_type": "execute_result",
     "data": {
      "text/plain": [
       "'Hello John Smith how are you?'"
      ]
     },
     "metadata": {},
     "execution_count": 50
    }
   ],
   "metadata": {}
  },
  {
   "cell_type": "code",
   "execution_count": 51,
   "source": [
    "def my_function(*kids):\r\n",
    "  return \"The youngest child is \" + kids[0]\r\n",
    "\r\n",
    "my_function(\"Hans\", \"Angel\", \"Lilly\")"
   ],
   "outputs": [
    {
     "output_type": "execute_result",
     "data": {
      "text/plain": [
       "'The youngest child is Hans'"
      ]
     },
     "metadata": {},
     "execution_count": 51
    }
   ],
   "metadata": {}
  },
  {
   "cell_type": "code",
   "execution_count": 53,
   "source": [
    "# This way the order of the arguments does not matter.\r\n",
    "def my_function(child3, child2, child1):\r\n",
    "  return \"The youngest child is \" + child3\r\n",
    "\r\n",
    "my_function(child1 = \"Hans\", child2 = \"Angel\", child3 = \"Lilly\")"
   ],
   "outputs": [
    {
     "output_type": "execute_result",
     "data": {
      "text/plain": [
       "'The youngest child is Lilly'"
      ]
     },
     "metadata": {},
     "execution_count": 53
    }
   ],
   "metadata": {}
  },
  {
   "cell_type": "code",
   "execution_count": 52,
   "source": [
    "# If the number of keyword arguments is unknown, add a double ** before the parameter name:\r\n",
    "\r\n",
    "def my_function(**kids):\r\n",
    "    for kid in kids.values():\r\n",
    "        print(f\"Hello {kids}\")\r\n",
    "\r\n",
    "my_function(name = \"John\", last_name = \"Smith\")"
   ],
   "outputs": [
    {
     "output_type": "stream",
     "name": "stdout",
     "text": [
      "Hello {'name': 'John', 'last_name': 'Smith'}\n",
      "Hello {'name': 'John', 'last_name': 'Smith'}\n"
     ]
    }
   ],
   "metadata": {}
  },
  {
   "cell_type": "code",
   "execution_count": 54,
   "source": [
    "def my_function(country = \"Norway\"):\r\n",
    "  return \"I am from \" + country\r\n",
    "\r\n",
    "my_function(\"Sweden\")\r\n",
    "my_function()"
   ],
   "outputs": [
    {
     "output_type": "execute_result",
     "data": {
      "text/plain": [
       "'I am from Norway'"
      ]
     },
     "metadata": {},
     "execution_count": 54
    }
   ],
   "metadata": {}
  },
  {
   "cell_type": "code",
   "execution_count": 55,
   "source": [
    "import time\r\n",
    "\r\n",
    "def elapsed_time(func):\r\n",
    "    def wrapper():\r\n",
    "        t1 = time.time()\r\n",
    "        func()\r\n",
    "        t2 = time.time()\r\n",
    "        print(f'Elapsed time: {(t2 - t1) * 1000} ms')\r\n",
    "    return wrapper\r\n",
    "\r\n",
    "@elapsed_time\r\n",
    "def big_sum():\r\n",
    "    num_list = []\r\n",
    "    for num in (range(0, 100)):\r\n",
    "        num_list.append(num)\r\n",
    "    print(f'Big sum: {sum(num_list)}')\r\n",
    "\r\n",
    "big_sum()"
   ],
   "outputs": [
    {
     "output_type": "stream",
     "name": "stdout",
     "text": [
      "Big sum: 4950\n",
      "Elapsed time: 0.0 ms\n"
     ]
    }
   ],
   "metadata": {}
  }
 ],
 "metadata": {
  "orig_nbformat": 4,
  "language_info": {
   "name": "python",
   "version": "3.9.2",
   "mimetype": "text/x-python",
   "codemirror_mode": {
    "name": "ipython",
    "version": 3
   },
   "pygments_lexer": "ipython3",
   "nbconvert_exporter": "python",
   "file_extension": ".py"
  },
  "kernelspec": {
   "name": "python3",
   "display_name": "Python 3.9.2 64-bit"
  },
  "interpreter": {
   "hash": "46f4c0da1529853cc4bd591e7c836f32aa74065b1d4bf61852c5db2d35a435e1"
  }
 },
 "nbformat": 4,
 "nbformat_minor": 2
}